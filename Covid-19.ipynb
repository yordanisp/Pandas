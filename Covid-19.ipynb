{
 "cells": [
  {
   "cell_type": "markdown",
   "metadata": {},
   "source": [
    "Analizing Covid-19 since day 03/24/2020 Source: https://www.worldometers.info/coronavirus/ "
   ]
  },
  {
   "cell_type": "code",
   "execution_count": 1,
   "metadata": {},
   "outputs": [],
   "source": [
    "import pandas as pd"
   ]
  },
  {
   "cell_type": "code",
   "execution_count": 2,
   "metadata": {},
   "outputs": [],
   "source": [
    "import matplotlib.pyplot as plt\n",
    "%matplotlib inline"
   ]
  },
  {
   "cell_type": "code",
   "execution_count": 3,
   "metadata": {},
   "outputs": [],
   "source": [
    "import numpy as np"
   ]
  },
  {
   "cell_type": "code",
   "execution_count": 4,
   "metadata": {},
   "outputs": [],
   "source": [
    "cv24 = pd.read_csv('./covid19/covid19_3_24.csv')\n",
    "cv25 = pd.read_csv('./covid19/covid19_3_25.csv')\n",
    "cv26 = pd.read_csv('./covid19/covid19_3_26.csv')"
   ]
  },
  {
   "cell_type": "code",
   "execution_count": 5,
   "metadata": {},
   "outputs": [],
   "source": [
    "cv24.index = np.arange(1, len(cv24)+1) # Starting with 1 instead 0\n",
    "cv25.index = np.arange(1, len(cv25)+1) # Starting with 1 instead 0\n",
    "cv26.index = np.arange(1, len(cv26)+1) # Starting with 1 instead 0\n",
    "\n",
    "cv24 = cv24.fillna(0) # Convert NaN to cero\n",
    "cv25 = cv25.fillna(0) # Convert NaN to cero\n",
    "cv26 = cv26.fillna(0) # Convert NaN to cero\n"
   ]
  },
  {
   "cell_type": "code",
   "execution_count": 6,
   "metadata": {},
   "outputs": [
    {
     "data": {
      "text/plain": [
       "1     3281.0\n",
       "2     6820.0\n",
       "3      782.0\n",
       "4     2991.0\n",
       "5      159.0\n",
       "6     1934.0\n",
       "7     1100.0\n",
       "8      122.0\n",
       "9      126.0\n",
       "10     422.0\n",
       "11     276.0\n",
       "12      28.0\n",
       "13     122.0\n",
       "14      12.0\n",
       "15      26.0\n",
       "Name: Total_Death, dtype: float64"
      ]
     },
     "execution_count": 6,
     "metadata": {},
     "output_type": "execute_result"
    }
   ],
   "source": [
    "cv24.Total_Death.head(15)"
   ]
  },
  {
   "cell_type": "code",
   "execution_count": 7,
   "metadata": {},
   "outputs": [
    {
     "data": {
      "text/html": [
       "<div>\n",
       "<style scoped>\n",
       "    .dataframe tbody tr th:only-of-type {\n",
       "        vertical-align: middle;\n",
       "    }\n",
       "\n",
       "    .dataframe tbody tr th {\n",
       "        vertical-align: top;\n",
       "    }\n",
       "\n",
       "    .dataframe thead th {\n",
       "        text-align: right;\n",
       "    }\n",
       "</style>\n",
       "<table border=\"1\" class=\"dataframe\">\n",
       "  <thead>\n",
       "    <tr style=\"text-align: right;\">\n",
       "      <th></th>\n",
       "      <th>New_Cases</th>\n",
       "      <th>Total_Death</th>\n",
       "      <th>New_Deaths</th>\n",
       "      <th>Total_Recov</th>\n",
       "      <th>Active_Cases</th>\n",
       "      <th>Serious</th>\n",
       "    </tr>\n",
       "  </thead>\n",
       "  <tbody>\n",
       "    <tr>\n",
       "      <th>1</th>\n",
       "      <td>47.0</td>\n",
       "      <td>3281.0</td>\n",
       "      <td>4.0</td>\n",
       "      <td>73650.0</td>\n",
       "      <td>4287</td>\n",
       "      <td>1399.0</td>\n",
       "    </tr>\n",
       "    <tr>\n",
       "      <th>2</th>\n",
       "      <td>0.0</td>\n",
       "      <td>6820.0</td>\n",
       "      <td>0.0</td>\n",
       "      <td>8326.0</td>\n",
       "      <td>54030</td>\n",
       "      <td>3393.0</td>\n",
       "    </tr>\n",
       "    <tr>\n",
       "      <th>3</th>\n",
       "      <td>44.0</td>\n",
       "      <td>782.0</td>\n",
       "      <td>4.0</td>\n",
       "      <td>378.0</td>\n",
       "      <td>53707</td>\n",
       "      <td>1175.0</td>\n",
       "    </tr>\n",
       "    <tr>\n",
       "      <th>4</th>\n",
       "      <td>0.0</td>\n",
       "      <td>2991.0</td>\n",
       "      <td>0.0</td>\n",
       "      <td>3794.0</td>\n",
       "      <td>35273</td>\n",
       "      <td>2636.0</td>\n",
       "    </tr>\n",
       "    <tr>\n",
       "      <th>5</th>\n",
       "      <td>0.0</td>\n",
       "      <td>159.0</td>\n",
       "      <td>0.0</td>\n",
       "      <td>3290.0</td>\n",
       "      <td>29542</td>\n",
       "      <td>23.0</td>\n",
       "    </tr>\n",
       "    <tr>\n",
       "      <th>6</th>\n",
       "      <td>0.0</td>\n",
       "      <td>1934.0</td>\n",
       "      <td>0.0</td>\n",
       "      <td>8913.0</td>\n",
       "      <td>13964</td>\n",
       "      <td>0.0</td>\n",
       "    </tr>\n",
       "    <tr>\n",
       "      <th>7</th>\n",
       "      <td>0.0</td>\n",
       "      <td>1100.0</td>\n",
       "      <td>0.0</td>\n",
       "      <td>3281.0</td>\n",
       "      <td>17923</td>\n",
       "      <td>2516.0</td>\n",
       "    </tr>\n",
       "    <tr>\n",
       "      <th>8</th>\n",
       "      <td>0.0</td>\n",
       "      <td>122.0</td>\n",
       "      <td>0.0</td>\n",
       "      <td>131.0</td>\n",
       "      <td>9624</td>\n",
       "      <td>141.0</td>\n",
       "    </tr>\n",
       "    <tr>\n",
       "      <th>9</th>\n",
       "      <td>100.0</td>\n",
       "      <td>126.0</td>\n",
       "      <td>6.0</td>\n",
       "      <td>3730.0</td>\n",
       "      <td>5281</td>\n",
       "      <td>59.0</td>\n",
       "    </tr>\n",
       "    <tr>\n",
       "      <th>10</th>\n",
       "      <td>0.0</td>\n",
       "      <td>422.0</td>\n",
       "      <td>0.0</td>\n",
       "      <td>135.0</td>\n",
       "      <td>7520</td>\n",
       "      <td>20.0</td>\n",
       "    </tr>\n",
       "  </tbody>\n",
       "</table>\n",
       "</div>"
      ],
      "text/plain": [
       "    New_Cases  Total_Death  New_Deaths  Total_Recov  Active_Cases  Serious\n",
       "1        47.0       3281.0         4.0      73650.0          4287   1399.0\n",
       "2         0.0       6820.0         0.0       8326.0         54030   3393.0\n",
       "3        44.0        782.0         4.0        378.0         53707   1175.0\n",
       "4         0.0       2991.0         0.0       3794.0         35273   2636.0\n",
       "5         0.0        159.0         0.0       3290.0         29542     23.0\n",
       "6         0.0       1934.0         0.0       8913.0         13964      0.0\n",
       "7         0.0       1100.0         0.0       3281.0         17923   2516.0\n",
       "8         0.0        122.0         0.0        131.0          9624    141.0\n",
       "9       100.0        126.0         6.0       3730.0          5281     59.0\n",
       "10        0.0        422.0         0.0        135.0          7520     20.0"
      ]
     },
     "execution_count": 7,
     "metadata": {},
     "output_type": "execute_result"
    }
   ],
   "source": [
    "cv24.iloc[:10, 2:8]"
   ]
  },
  {
   "cell_type": "code",
   "execution_count": 8,
   "metadata": {},
   "outputs": [
    {
     "data": {
      "text/plain": [
       "Country          ChinaItalyUSASpainGermanyIranFranceSwitzerland...\n",
       "Total_Cases                                                 471303\n",
       "New_Cases                                                      337\n",
       "Total_Death                                                  21291\n",
       "New_Deaths                                                      13\n",
       "Total_Recov                                                 114642\n",
       "Active_Cases                                                335370\n",
       "Serious                                                      14792\n",
       "Tot_Cases_1M                                                 40013\n",
       "Tot_Deaths_1M                                                 1059\n",
       "dtype: object"
      ]
     },
     "execution_count": 8,
     "metadata": {},
     "output_type": "execute_result"
    }
   ],
   "source": [
    "cv25.sum()"
   ]
  },
  {
   "cell_type": "code",
   "execution_count": 9,
   "metadata": {},
   "outputs": [],
   "source": [
    "cv24.Total_Cases = cv24.Total_Cases.apply(pd.to_numeric) # Convert Columns to_numeric to plot\n",
    "cv24.New_Cases = pd.to_numeric(cv24.New_Cases) # Convert Columns to_numeric to plot\n",
    "cv24.New_Cases = pd.to_numeric(cv24.New_Cases) # Convert Columns to_numeric to plot\n",
    "cv24.Total_Death = pd.to_numeric(cv24.Total_Death) # Convert Columns to_numeric to plot\n",
    "cv24.New_Deaths = pd.to_numeric(cv24.New_Deaths) # Convert Columns to_numeric to plot\n",
    "cv24.Total_Recov = pd.to_numeric(cv24.Total_Recov) # Convert Columns to_numeric to plot\n",
    "cv24.Active_Cases = pd.to_numeric(cv24.Active_Cases) # Convert Columns to_numeric to plot\n",
    "cv24.Serious = pd.to_numeric(cv24.Serious) # Convert Columns to_numeric to plot\n",
    "cv24.Tot_Cases_1M = pd.to_numeric(cv24.Tot_Cases_1M) # Convert Columns to_numeric to plot\n",
    "cv24.Tot_Deaths_1M = pd.to_numeric(cv24.Tot_Deaths_1M) # Convert Columns to_numeric to plot"
   ]
  },
  {
   "cell_type": "markdown",
   "metadata": {},
   "source": [
    "Statistics"
   ]
  },
  {
   "cell_type": "code",
   "execution_count": 10,
   "metadata": {},
   "outputs": [
    {
     "data": {
      "text/html": [
       "<div>\n",
       "<style scoped>\n",
       "    .dataframe tbody tr th:only-of-type {\n",
       "        vertical-align: middle;\n",
       "    }\n",
       "\n",
       "    .dataframe tbody tr th {\n",
       "        vertical-align: top;\n",
       "    }\n",
       "\n",
       "    .dataframe thead th {\n",
       "        text-align: right;\n",
       "    }\n",
       "</style>\n",
       "<table border=\"1\" class=\"dataframe\">\n",
       "  <thead>\n",
       "    <tr style=\"text-align: right;\">\n",
       "      <th></th>\n",
       "      <th>Country</th>\n",
       "      <th>Total_Cases</th>\n",
       "      <th>Total_Death</th>\n",
       "      <th>Total_Recov</th>\n",
       "      <th>Active_Cases</th>\n",
       "    </tr>\n",
       "  </thead>\n",
       "  <tbody>\n",
       "    <tr>\n",
       "      <th>0</th>\n",
       "      <td>Afghanistan</td>\n",
       "      <td>74</td>\n",
       "      <td>1.0</td>\n",
       "      <td>1.0</td>\n",
       "      <td>72</td>\n",
       "    </tr>\n",
       "    <tr>\n",
       "      <th>1</th>\n",
       "      <td>Albania</td>\n",
       "      <td>123</td>\n",
       "      <td>5.0</td>\n",
       "      <td>10.0</td>\n",
       "      <td>108</td>\n",
       "    </tr>\n",
       "    <tr>\n",
       "      <th>2</th>\n",
       "      <td>Algeria</td>\n",
       "      <td>264</td>\n",
       "      <td>19.0</td>\n",
       "      <td>24.0</td>\n",
       "      <td>221</td>\n",
       "    </tr>\n",
       "    <tr>\n",
       "      <th>3</th>\n",
       "      <td>Andorra</td>\n",
       "      <td>164</td>\n",
       "      <td>1.0</td>\n",
       "      <td>1.0</td>\n",
       "      <td>162</td>\n",
       "    </tr>\n",
       "    <tr>\n",
       "      <th>4</th>\n",
       "      <td>Angola</td>\n",
       "      <td>3</td>\n",
       "      <td>0.0</td>\n",
       "      <td>0.0</td>\n",
       "      <td>3</td>\n",
       "    </tr>\n",
       "    <tr>\n",
       "      <th>...</th>\n",
       "      <td>...</td>\n",
       "      <td>...</td>\n",
       "      <td>...</td>\n",
       "      <td>...</td>\n",
       "      <td>...</td>\n",
       "    </tr>\n",
       "    <tr>\n",
       "      <th>193</th>\n",
       "      <td>Vatican City</td>\n",
       "      <td>4</td>\n",
       "      <td>0.0</td>\n",
       "      <td>0.0</td>\n",
       "      <td>4</td>\n",
       "    </tr>\n",
       "    <tr>\n",
       "      <th>194</th>\n",
       "      <td>Venezuela</td>\n",
       "      <td>91</td>\n",
       "      <td>0.0</td>\n",
       "      <td>15.0</td>\n",
       "      <td>76</td>\n",
       "    </tr>\n",
       "    <tr>\n",
       "      <th>195</th>\n",
       "      <td>Vietnam</td>\n",
       "      <td>134</td>\n",
       "      <td>0.0</td>\n",
       "      <td>17.0</td>\n",
       "      <td>117</td>\n",
       "    </tr>\n",
       "    <tr>\n",
       "      <th>196</th>\n",
       "      <td>Zambia</td>\n",
       "      <td>3</td>\n",
       "      <td>0.0</td>\n",
       "      <td>0.0</td>\n",
       "      <td>3</td>\n",
       "    </tr>\n",
       "    <tr>\n",
       "      <th>197</th>\n",
       "      <td>Zimbabwe</td>\n",
       "      <td>3</td>\n",
       "      <td>1.0</td>\n",
       "      <td>0.0</td>\n",
       "      <td>2</td>\n",
       "    </tr>\n",
       "  </tbody>\n",
       "</table>\n",
       "<p>198 rows × 5 columns</p>\n",
       "</div>"
      ],
      "text/plain": [
       "          Country  Total_Cases  Total_Death  Total_Recov  Active_Cases\n",
       "0     Afghanistan           74          1.0          1.0            72\n",
       "1         Albania          123          5.0         10.0           108\n",
       "2         Algeria          264         19.0         24.0           221\n",
       "3         Andorra          164          1.0          1.0           162\n",
       "4          Angola            3          0.0          0.0             3\n",
       "..            ...          ...          ...          ...           ...\n",
       "193  Vatican City            4          0.0          0.0             4\n",
       "194     Venezuela           91          0.0         15.0            76\n",
       "195       Vietnam          134          0.0         17.0           117\n",
       "196        Zambia            3          0.0          0.0             3\n",
       "197      Zimbabwe            3          1.0          0.0             2\n",
       "\n",
       "[198 rows x 5 columns]"
      ]
     },
     "execution_count": 10,
     "metadata": {},
     "output_type": "execute_result"
    }
   ],
   "source": [
    "cv24.groupby(\"Country\")[['Total_Cases', 'Total_Death', 'Total_Recov', 'Active_Cases']].sum().reset_index()"
   ]
  },
  {
   "cell_type": "code",
   "execution_count": 11,
   "metadata": {},
   "outputs": [
    {
     "data": {
      "image/png": "[encoded data removed]",
      "text/plain": [
       "<Figure size 640x480 with 1 Axes>"
      ]
     },
     "metadata": {},
     "output_type": "display_data"
    }
   ],
   "source": [
    "from matplotlib.pyplot import figure\n",
    "figure(num=None, figsize=(8, 6), dpi=80, facecolor='w', edgecolor='k')\n",
    "\n",
    "topc = cv24.Country.head(20)\n",
    "toptc = cv24.Total_Cases.head(20)\n",
    "toptd = cv24.Total_Death.head(20)\n",
    "\n",
    "plt.bar(topc, toptc, label='Total Cases')\n",
    "plt.bar(topc, toptd, label='Total Deaths')\n",
    "plt.xlabel('Countries')\n",
    "plt.ylabel('Persons Infected')\n",
    "plt.xticks(topc, rotation='vertical', size=10)\n",
    "plt.grid(True)\n",
    "plt.title('Top 10 Crovid-19 Cases & Deaths 03-24')\n",
    "plt.legend(loc=\"upper right\")\n",
    "\n",
    "plt.show()"
   ]
  },
  {
   "cell_type": "code",
   "execution_count": 12,
   "metadata": {},
   "outputs": [
    {
     "data": {
      "image/png": "[encoded data removed]",
      "text/plain": [
       "<Figure size 640x480 with 1 Axes>"
      ]
     },
     "metadata": {},
     "output_type": "display_data"
    }
   ],
   "source": [
    "from matplotlib.pyplot import figure\n",
    "figure(num=None, figsize=(8, 6), dpi=80, facecolor='w', edgecolor='k')\n",
    "\n",
    "topc = cv25.Country.head(20)\n",
    "toptc = cv25.Total_Cases.head(20)\n",
    "toptd = cv25.Total_Death.head(20)\n",
    "\n",
    "plt.bar(topc, toptc, label='Total Cases')\n",
    "plt.bar(topc, toptd, label='Total Deaths')\n",
    "plt.xlabel('Countries')\n",
    "plt.ylabel('Persons Infected')\n",
    "plt.xticks(topc, rotation='vertical', size=10)\n",
    "plt.grid(True)\n",
    "plt.title('Top 10 Crovid-19 Cases & Deaths 03-25')\n",
    "plt.legend(loc=\"upper right\")\n",
    "\n",
    "plt.show()"
   ]
  },
  {
   "cell_type": "code",
   "execution_count": 13,
   "metadata": {},
   "outputs": [
    {
     "data": {
      "image/png": "[encoded data removed]",
      "text/plain": [
       "<Figure size 640x480 with 1 Axes>"
      ]
     },
     "metadata": {},
     "output_type": "display_data"
    }
   ],
   "source": [
    "from matplotlib.pyplot import figure\n",
    "figure(num=None, figsize=(8, 6), dpi=80, facecolor='w', edgecolor='k')\n",
    "\n",
    "topc = cv26.Country.head(20)\n",
    "toptc = cv26.Total_Cases.head(20)\n",
    "toptd = cv26.Total_Death.head(20)\n",
    "\n",
    "plt.bar(topc, toptc, label='Total Cases')\n",
    "plt.bar(topc, toptd, label='Total Deaths')\n",
    "plt.xlabel('Countries')\n",
    "plt.ylabel('Persons Infected')\n",
    "plt.xticks(topc, rotation='vertical', size=10)\n",
    "plt.grid(True)\n",
    "plt.title('Top 10 Crovid-19 Cases & Deaths 03-26')\n",
    "plt.legend(loc=\"upper right\")\n",
    "\n",
    "plt.show()"
   ]
  },
  {
   "cell_type": "markdown",
   "metadata": {},
   "source": [
    "Comparing CSVs"
   ]
  },
  {
   "cell_type": "code",
   "execution_count": 14,
   "metadata": {},
   "outputs": [
    {
     "data": {
      "text/plain": [
       "1           China\n",
       "2           Italy\n",
       "3             USA\n",
       "4           Spain\n",
       "5         Germany\n",
       "6            Iran\n",
       "7          France\n",
       "8     Switzerland\n",
       "9        S. Korea\n",
       "10             UK\n",
       "Name: Country, dtype: object"
      ]
     },
     "execution_count": 14,
     "metadata": {},
     "output_type": "execute_result"
    }
   ],
   "source": [
    "cv24.Country.head(10)"
   ]
  },
  {
   "cell_type": "code",
   "execution_count": 15,
   "metadata": {},
   "outputs": [],
   "source": [
    "cv24tct = cv24[['Country','Total_Cases']]\n",
    "cv25tct = cv25[['Country','Total_Cases']]\n",
    "cv26tct = cv26[['Country','Total_Cases']]\n",
    "\n",
    "cv24tct = cv24tct.head(10)\n",
    "cv25tct = cv25tct.head(10)\n",
    "cv26tct = cv26tct.head(10)"
   ]
  },
  {
   "cell_type": "code",
   "execution_count": 16,
   "metadata": {},
   "outputs": [],
   "source": [
    "test = [cv24tct, cv25tct, cv26tct]\n",
    "result = pd.concat(test)"
   ]
  },
  {
   "cell_type": "code",
   "execution_count": 17,
   "metadata": {},
   "outputs": [
    {
     "data": {
      "text/plain": [
       "<matplotlib.axes._subplots.AxesSubplot at 0x11f395a00>"
      ]
     },
     "execution_count": 17,
     "metadata": {},
     "output_type": "execute_result"
    },
    {
     "data": {
      "image/png": "[encoded data removed]",
      "text/plain": [
       "<Figure size 432x288 with 1 Axes>"
      ]
     },
     "metadata": {
      "needs_background": "light"
     },
     "output_type": "display_data"
    }
   ],
   "source": [
    "result.plot.bar()"
   ]
  },
  {
   "cell_type": "code",
   "execution_count": 18,
   "metadata": {},
   "outputs": [],
   "source": [
    "a = np.char.encode('hello world', 'cp500') "
   ]
  },
  {
   "cell_type": "code",
   "execution_count": null,
   "metadata": {},
   "outputs": [],
   "source": []
  },
  {
   "cell_type": "code",
   "execution_count": 19,
   "metadata": {},
   "outputs": [
    {
     "data": {
      "text/plain": [
       "array(b'\\x88\\x85\\x93\\x93\\x96@\\xa6\\x96\\x99\\x93\\x84', dtype='|S11')"
      ]
     },
     "execution_count": 19,
     "metadata": {},
     "output_type": "execute_result"
    }
   ],
   "source": [
    "a"
   ]
  },
  {
   "cell_type": "code",
   "execution_count": 20,
   "metadata": {
    "scrolled": true
   },
   "outputs": [
    {
     "data": {
      "text/plain": [
       "31.5"
      ]
     },
     "execution_count": 20,
     "metadata": {},
     "output_type": "execute_result"
    }
   ],
   "source": [
    "def plusten(x):\n",
    "    return x + 10 * x -3 / 2\n",
    "\n",
    "plusten(3)"
   ]
  },
  {
   "cell_type": "code",
   "execution_count": null,
   "metadata": {},
   "outputs": [],
   "source": [
    "text"
   ]
  }
 ],
 "metadata": {
  "kernelspec": {
   "display_name": "Python 3",
   "language": "python",
   "name": "python3"
  },
  "language_info": {
   "codemirror_mode": {
    "name": "ipython",
    "version": 3
   },
   "file_extension": ".py",
   "mimetype": "text/x-python",
   "name": "python",
   "nbconvert_exporter": "python",
   "pygments_lexer": "ipython3",
   "version": "3.8.2"
  }
 },
 "nbformat": 4,
 "nbformat_minor": 2
}
