{
 "cells": [
  {
   "cell_type": "code",
   "execution_count": 1,
   "metadata": {},
   "outputs": [
    {
     "name": "stdout",
     "output_type": "stream",
     "text": [
      "     #                   Name  Type 1  Type 2   HP  Attack  Defense  Sp. Atk  \\\n",
      "0    1              Bulbasaur   Grass  Poison   45      49       49       65   \n",
      "1    2                Ivysaur   Grass  Poison   60      62       63       80   \n",
      "2    3               Venusaur   Grass  Poison   80      82       83      100   \n",
      "3    3  VenusaurMega Venusaur   Grass  Poison   80     100      123      122   \n",
      "4    4             Charmander    Fire     NaN   39      52       43       60   \n",
      "..  ..                    ...     ...     ...  ...     ...      ...      ...   \n",
      "95  88                 Grimer  Poison     NaN   80      80       50       40   \n",
      "96  89                    Muk  Poison     NaN  105     105       75       65   \n",
      "97  90               Shellder   Water     NaN   30      65      100       45   \n",
      "98  91               Cloyster   Water     Ice   50      95      180       85   \n",
      "99  92                 Gastly   Ghost  Poison   30      35       30      100   \n",
      "\n",
      "    Sp. Def  Speed  Generation  Legendary  \n",
      "0        65     45           1      False  \n",
      "1        80     60           1      False  \n",
      "2       100     80           1      False  \n",
      "3       120     80           1      False  \n",
      "4        50     65           1      False  \n",
      "..      ...    ...         ...        ...  \n",
      "95       50     25           1      False  \n",
      "96      100     50           1      False  \n",
      "97       25     40           1      False  \n",
      "98       45     70           1      False  \n",
      "99       35     80           1      False  \n",
      "\n",
      "[100 rows x 12 columns]\n"
     ]
    }
   ],
   "source": [
    "import pandas as pd\n",
    "\n",
    "df = pd.read_csv('pokemon_data.csv')\n",
    "\n",
    "print(df.head(100))"
   ]
  },
  {
   "cell_type": "code",
   "execution_count": 2,
   "metadata": {},
   "outputs": [
    {
     "name": "stdout",
     "output_type": "stream",
     "text": [
      "Index(['#', 'Name', 'Type 1', 'Type 2', 'HP', 'Attack', 'Defense', 'Sp. Atk',\n",
      "       'Sp. Def', 'Speed', 'Generation', 'Legendary'],\n",
      "      dtype='object')\n",
      "0                  Bulbasaur\n",
      "1                    Ivysaur\n",
      "2                   Venusaur\n",
      "3      VenusaurMega Venusaur\n",
      "4                 Charmander\n",
      "               ...          \n",
      "795                  Diancie\n",
      "796      DiancieMega Diancie\n",
      "797      HoopaHoopa Confined\n",
      "798       HoopaHoopa Unbound\n",
      "799                Volcanion\n",
      "Name: Name, Length: 800, dtype: object ['Type 1']\n"
     ]
    }
   ],
   "source": [
    "print(df.columns)\n",
    "\n",
    "print(df['Name'], ['Type 1'])"
   ]
  },
  {
   "cell_type": "code",
   "execution_count": null,
   "metadata": {},
   "outputs": [],
   "source": []
  }
 ],
 "metadata": {
  "kernelspec": {
   "display_name": "Python 3",
   "language": "python",
   "name": "python3"
  },
  "language_info": {
   "codemirror_mode": {
    "name": "ipython",
    "version": 3
   },
   "file_extension": ".py",
   "mimetype": "text/x-python",
   "name": "python",
   "nbconvert_exporter": "python",
   "pygments_lexer": "ipython3",
   "version": "3.7.4"
  }
 },
 "nbformat": 4,
 "nbformat_minor": 2
}
