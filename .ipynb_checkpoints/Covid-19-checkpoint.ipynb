{
 "cells": [
  {
   "cell_type": "markdown",
   "metadata": {},
   "source": [
    "Analizing Covid-19 day 03/24/2020 Source: https://www.worldometers.info/coronavirus/ "
   ]
  },
  {
   "cell_type": "code",
   "execution_count": 1,
   "metadata": {},
   "outputs": [],
   "source": [
    "import pandas as pd"
   ]
  },
  {
   "cell_type": "code",
   "execution_count": 2,
   "metadata": {},
   "outputs": [],
   "source": [
    "import matplotlib.pyplot as plt"
   ]
  },
  {
   "cell_type": "code",
   "execution_count": 49,
   "metadata": {},
   "outputs": [],
   "source": [
    "import numpy as np"
   ]
  },
  {
   "cell_type": "code",
   "execution_count": 104,
   "metadata": {},
   "outputs": [],
   "source": [
    "cv = pd.read_csv('covid19_3_34.csv')"
   ]
  },
  {
   "cell_type": "code",
   "execution_count": 106,
   "metadata": {},
   "outputs": [],
   "source": [
    "cv.index = np.arange(1, len(cv)+1) # Starting with 1 instead 0"
   ]
  },
  {
   "cell_type": "code",
   "execution_count": 108,
   "metadata": {},
   "outputs": [],
   "source": [
    "cv = cv.fillna(0) # Convert NaN in cero"
   ]
  },
  {
   "cell_type": "code",
   "execution_count": 109,
   "metadata": {},
   "outputs": [
    {
     "data": {
      "text/html": [
       "<div>\n",
       "<style scoped>\n",
       "    .dataframe tbody tr th:only-of-type {\n",
       "        vertical-align: middle;\n",
       "    }\n",
       "\n",
       "    .dataframe tbody tr th {\n",
       "        vertical-align: top;\n",
       "    }\n",
       "\n",
       "    .dataframe thead th {\n",
       "        text-align: right;\n",
       "    }\n",
       "</style>\n",
       "<table border=\"1\" class=\"dataframe\">\n",
       "  <thead>\n",
       "    <tr style=\"text-align: right;\">\n",
       "      <th></th>\n",
       "      <th>Country</th>\n",
       "      <th>Total_Cases</th>\n",
       "      <th>New_Cases</th>\n",
       "      <th>Total_Death</th>\n",
       "      <th>New_Deaths</th>\n",
       "      <th>Total_Recov</th>\n",
       "      <th>Active_Cases</th>\n",
       "      <th>Serious</th>\n",
       "      <th>Tot_Cases_1M</th>\n",
       "      <th>Tot_Deaths_1M</th>\n",
       "    </tr>\n",
       "  </thead>\n",
       "  <tbody>\n",
       "    <tr>\n",
       "      <td>1</td>\n",
       "      <td>China</td>\n",
       "      <td>81218</td>\n",
       "      <td>47.0</td>\n",
       "      <td>3281.0</td>\n",
       "      <td>4.0</td>\n",
       "      <td>73650.0</td>\n",
       "      <td>4287</td>\n",
       "      <td>1399.0</td>\n",
       "      <td>56.0</td>\n",
       "      <td>2.0</td>\n",
       "    </tr>\n",
       "    <tr>\n",
       "      <td>2</td>\n",
       "      <td>Italy</td>\n",
       "      <td>69176</td>\n",
       "      <td>0.0</td>\n",
       "      <td>6820.0</td>\n",
       "      <td>0.0</td>\n",
       "      <td>8326.0</td>\n",
       "      <td>54030</td>\n",
       "      <td>3393.0</td>\n",
       "      <td>1144.0</td>\n",
       "      <td>113.0</td>\n",
       "    </tr>\n",
       "    <tr>\n",
       "      <td>3</td>\n",
       "      <td>USA</td>\n",
       "      <td>54867</td>\n",
       "      <td>44.0</td>\n",
       "      <td>782.0</td>\n",
       "      <td>4.0</td>\n",
       "      <td>378.0</td>\n",
       "      <td>53707</td>\n",
       "      <td>1175.0</td>\n",
       "      <td>166.0</td>\n",
       "      <td>2.0</td>\n",
       "    </tr>\n",
       "    <tr>\n",
       "      <td>4</td>\n",
       "      <td>Spain</td>\n",
       "      <td>42058</td>\n",
       "      <td>0.0</td>\n",
       "      <td>2991.0</td>\n",
       "      <td>0.0</td>\n",
       "      <td>3794.0</td>\n",
       "      <td>35273</td>\n",
       "      <td>2636.0</td>\n",
       "      <td>900.0</td>\n",
       "      <td>64.0</td>\n",
       "    </tr>\n",
       "    <tr>\n",
       "      <td>5</td>\n",
       "      <td>Germany</td>\n",
       "      <td>32991</td>\n",
       "      <td>0.0</td>\n",
       "      <td>159.0</td>\n",
       "      <td>0.0</td>\n",
       "      <td>3290.0</td>\n",
       "      <td>29542</td>\n",
       "      <td>23.0</td>\n",
       "      <td>394.0</td>\n",
       "      <td>2.0</td>\n",
       "    </tr>\n",
       "    <tr>\n",
       "      <td>6</td>\n",
       "      <td>Iran</td>\n",
       "      <td>24811</td>\n",
       "      <td>0.0</td>\n",
       "      <td>1934.0</td>\n",
       "      <td>0.0</td>\n",
       "      <td>8913.0</td>\n",
       "      <td>13964</td>\n",
       "      <td>0.0</td>\n",
       "      <td>295.0</td>\n",
       "      <td>23.0</td>\n",
       "    </tr>\n",
       "    <tr>\n",
       "      <td>7</td>\n",
       "      <td>France</td>\n",
       "      <td>22304</td>\n",
       "      <td>0.0</td>\n",
       "      <td>1100.0</td>\n",
       "      <td>0.0</td>\n",
       "      <td>3281.0</td>\n",
       "      <td>17923</td>\n",
       "      <td>2516.0</td>\n",
       "      <td>342.0</td>\n",
       "      <td>17.0</td>\n",
       "    </tr>\n",
       "    <tr>\n",
       "      <td>8</td>\n",
       "      <td>Switzerland</td>\n",
       "      <td>9877</td>\n",
       "      <td>0.0</td>\n",
       "      <td>122.0</td>\n",
       "      <td>0.0</td>\n",
       "      <td>131.0</td>\n",
       "      <td>9624</td>\n",
       "      <td>141.0</td>\n",
       "      <td>1141.0</td>\n",
       "      <td>14.0</td>\n",
       "    </tr>\n",
       "    <tr>\n",
       "      <td>9</td>\n",
       "      <td>S. Korea</td>\n",
       "      <td>9137</td>\n",
       "      <td>100.0</td>\n",
       "      <td>126.0</td>\n",
       "      <td>6.0</td>\n",
       "      <td>3730.0</td>\n",
       "      <td>5281</td>\n",
       "      <td>59.0</td>\n",
       "      <td>178.0</td>\n",
       "      <td>2.0</td>\n",
       "    </tr>\n",
       "    <tr>\n",
       "      <td>10</td>\n",
       "      <td>UK</td>\n",
       "      <td>8077</td>\n",
       "      <td>0.0</td>\n",
       "      <td>422.0</td>\n",
       "      <td>0.0</td>\n",
       "      <td>135.0</td>\n",
       "      <td>7520</td>\n",
       "      <td>20.0</td>\n",
       "      <td>119.0</td>\n",
       "      <td>6.0</td>\n",
       "    </tr>\n",
       "    <tr>\n",
       "      <td>11</td>\n",
       "      <td>Netherlands</td>\n",
       "      <td>5560</td>\n",
       "      <td>0.0</td>\n",
       "      <td>276.0</td>\n",
       "      <td>0.0</td>\n",
       "      <td>2.0</td>\n",
       "      <td>5282</td>\n",
       "      <td>435.0</td>\n",
       "      <td>324.0</td>\n",
       "      <td>16.0</td>\n",
       "    </tr>\n",
       "    <tr>\n",
       "      <td>12</td>\n",
       "      <td>Austria</td>\n",
       "      <td>5283</td>\n",
       "      <td>0.0</td>\n",
       "      <td>28.0</td>\n",
       "      <td>0.0</td>\n",
       "      <td>9.0</td>\n",
       "      <td>5246</td>\n",
       "      <td>22.0</td>\n",
       "      <td>587.0</td>\n",
       "      <td>3.0</td>\n",
       "    </tr>\n",
       "    <tr>\n",
       "      <td>13</td>\n",
       "      <td>Belgium</td>\n",
       "      <td>4269</td>\n",
       "      <td>0.0</td>\n",
       "      <td>122.0</td>\n",
       "      <td>0.0</td>\n",
       "      <td>461.0</td>\n",
       "      <td>3686</td>\n",
       "      <td>381.0</td>\n",
       "      <td>368.0</td>\n",
       "      <td>11.0</td>\n",
       "    </tr>\n",
       "    <tr>\n",
       "      <td>14</td>\n",
       "      <td>Norway</td>\n",
       "      <td>2866</td>\n",
       "      <td>0.0</td>\n",
       "      <td>12.0</td>\n",
       "      <td>0.0</td>\n",
       "      <td>6.0</td>\n",
       "      <td>2848</td>\n",
       "      <td>44.0</td>\n",
       "      <td>529.0</td>\n",
       "      <td>2.0</td>\n",
       "    </tr>\n",
       "    <tr>\n",
       "      <td>15</td>\n",
       "      <td>Canada</td>\n",
       "      <td>2792</td>\n",
       "      <td>0.0</td>\n",
       "      <td>26.0</td>\n",
       "      <td>0.0</td>\n",
       "      <td>112.0</td>\n",
       "      <td>2654</td>\n",
       "      <td>1.0</td>\n",
       "      <td>74.0</td>\n",
       "      <td>0.7</td>\n",
       "    </tr>\n",
       "  </tbody>\n",
       "</table>\n",
       "</div>"
      ],
      "text/plain": [
       "        Country  Total_Cases  New_Cases  Total_Death  New_Deaths  Total_Recov  \\\n",
       "1         China        81218       47.0       3281.0         4.0      73650.0   \n",
       "2         Italy        69176        0.0       6820.0         0.0       8326.0   \n",
       "3           USA        54867       44.0        782.0         4.0        378.0   \n",
       "4         Spain        42058        0.0       2991.0         0.0       3794.0   \n",
       "5       Germany        32991        0.0        159.0         0.0       3290.0   \n",
       "6          Iran        24811        0.0       1934.0         0.0       8913.0   \n",
       "7        France        22304        0.0       1100.0         0.0       3281.0   \n",
       "8   Switzerland         9877        0.0        122.0         0.0        131.0   \n",
       "9      S. Korea         9137      100.0        126.0         6.0       3730.0   \n",
       "10           UK         8077        0.0        422.0         0.0        135.0   \n",
       "11  Netherlands         5560        0.0        276.0         0.0          2.0   \n",
       "12      Austria         5283        0.0         28.0         0.0          9.0   \n",
       "13      Belgium         4269        0.0        122.0         0.0        461.0   \n",
       "14       Norway         2866        0.0         12.0         0.0          6.0   \n",
       "15       Canada         2792        0.0         26.0         0.0        112.0   \n",
       "\n",
       "    Active_Cases  Serious  Tot_Cases_1M  Tot_Deaths_1M  \n",
       "1           4287   1399.0          56.0            2.0  \n",
       "2          54030   3393.0        1144.0          113.0  \n",
       "3          53707   1175.0         166.0            2.0  \n",
       "4          35273   2636.0         900.0           64.0  \n",
       "5          29542     23.0         394.0            2.0  \n",
       "6          13964      0.0         295.0           23.0  \n",
       "7          17923   2516.0         342.0           17.0  \n",
       "8           9624    141.0        1141.0           14.0  \n",
       "9           5281     59.0         178.0            2.0  \n",
       "10          7520     20.0         119.0            6.0  \n",
       "11          5282    435.0         324.0           16.0  \n",
       "12          5246     22.0         587.0            3.0  \n",
       "13          3686    381.0         368.0           11.0  \n",
       "14          2848     44.0         529.0            2.0  \n",
       "15          2654      1.0          74.0            0.7  "
      ]
     },
     "execution_count": 109,
     "metadata": {},
     "output_type": "execute_result"
    }
   ],
   "source": [
    "cv.head(15)"
   ]
  },
  {
   "cell_type": "code",
   "execution_count": 110,
   "metadata": {},
   "outputs": [],
   "source": [
    "cv.Total_Cases = cv.Total_Cases.apply(pd.to_numeric) # Convert Columns to_numeric to plot"
   ]
  },
  {
   "cell_type": "code",
   "execution_count": 111,
   "metadata": {},
   "outputs": [],
   "source": [
    "cv.New_Cases = pd.to_numeric(cv.New_Cases) # Convert Columns to_numeric to plot"
   ]
  },
  {
   "cell_type": "code",
   "execution_count": 112,
   "metadata": {},
   "outputs": [],
   "source": [
    "cv.Total_Death = pd.to_numeric(cv.Total_Death) # Convert Columns to_numeric to plot"
   ]
  },
  {
   "cell_type": "code",
   "execution_count": 113,
   "metadata": {},
   "outputs": [],
   "source": [
    "cv.New_Deaths = pd.to_numeric(cv.New_Deaths) # Convert Columns to_numeric to plot"
   ]
  },
  {
   "cell_type": "code",
   "execution_count": 114,
   "metadata": {},
   "outputs": [],
   "source": [
    "cv.Total_Recov = pd.to_numeric(cv.Total_Recov) # Convert Columns to_numeric to plot"
   ]
  },
  {
   "cell_type": "code",
   "execution_count": 115,
   "metadata": {},
   "outputs": [],
   "source": [
    "cv.Active_Cases = pd.to_numeric(cv.Active_Cases) # Convert Columns to_numeric to plot"
   ]
  },
  {
   "cell_type": "code",
   "execution_count": 116,
   "metadata": {},
   "outputs": [],
   "source": [
    "cv.Serious = pd.to_numeric(cv.Serious) # Convert Columns to_numeric to plot"
   ]
  },
  {
   "cell_type": "code",
   "execution_count": 117,
   "metadata": {},
   "outputs": [],
   "source": [
    "cv.Tot_Cases_1M = pd.to_numeric(cv.Tot_Cases_1M) # Convert Columns to_numeric to plot"
   ]
  },
  {
   "cell_type": "code",
   "execution_count": 118,
   "metadata": {},
   "outputs": [],
   "source": [
    "cv.Tot_Deaths_1M = pd.to_numeric(cv.Tot_Deaths_1M) # Convert Columns to_numeric to plot"
   ]
  },
  {
   "cell_type": "code",
   "execution_count": 119,
   "metadata": {},
   "outputs": [
    {
     "data": {
      "text/plain": [
       "<matplotlib.axes._subplots.AxesSubplot at 0x120831650>"
      ]
     },
     "execution_count": 119,
     "metadata": {},
     "output_type": "execute_result"
    },
    {
     "data": {
      "image/png": "[encoded data removed]",
      "text/plain": [
       "<Figure size 432x288 with 1 Axes>"
      ]
     },
     "metadata": {
      "needs_background": "light"
     },
     "output_type": "display_data"
    }
   ],
   "source": [
    "cv.Total_Death.plot()"
   ]
  },
  {
   "cell_type": "code",
   "execution_count": null,
   "metadata": {},
   "outputs": [],
   "source": []
  }
 ],
 "metadata": {
  "kernelspec": {
   "display_name": "Python 3",
   "language": "python",
   "name": "python3"
  },
  "language_info": {
   "codemirror_mode": {
    "name": "ipython",
    "version": 3
   },
   "file_extension": ".py",
   "mimetype": "text/x-python",
   "name": "python",
   "nbconvert_exporter": "python",
   "pygments_lexer": "ipython3",
   "version": "3.7.4"
  }
 },
 "nbformat": 4,
 "nbformat_minor": 2
}
